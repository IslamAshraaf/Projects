{
 "cells": [
  {
   "cell_type": "markdown",
   "id": "196b17cc",
   "metadata": {},
   "source": [
    "## Libraries"
   ]
  },
  {
   "cell_type": "code",
   "execution_count": 1,
   "id": "60f7f7bf",
   "metadata": {},
   "outputs": [],
   "source": [
    "import requests,csv\n",
    "from bs4 import BeautifulSoup\n",
    "import pandas as pd"
   ]
  },
  {
   "cell_type": "markdown",
   "id": "9010d086",
   "metadata": {},
   "source": [
    "## Adding The Headers In The CSV File"
   ]
  },
  {
   "cell_type": "code",
   "execution_count": 2,
   "id": "0faac1cd",
   "metadata": {},
   "outputs": [],
   "source": [
    "with open('jobs.csv','w',encoding='utf-8',newline='') as f:\n",
    "        writer = csv.writer(f)\n",
    "        writer.writerow(['Job Title','Company','Location','Time Of Work','Job Description'])"
   ]
  },
  {
   "cell_type": "markdown",
   "id": "bc2b1ad3",
   "metadata": {},
   "source": [
    "## Appending The Data From The Site To The CSV File"
   ]
  },
  {
   "cell_type": "code",
   "execution_count": 3,
   "id": "dab9107c",
   "metadata": {},
   "outputs": [
    {
     "name": "stdout",
     "output_type": "stream",
     "text": [
      "Finished\n"
     ]
    }
   ],
   "source": [
    "page_no = 0\n",
    "while True:\n",
    "    url=f'https://wuzzuf.net/search/jobs/?a=navbg&q=data%20science&start={page_no}'\n",
    "    response = requests.get(url)\n",
    "    soap = BeautifulSoup(response.text,'html.parser')\n",
    "    with open('jobs.csv','a',encoding='utf-8',newline='') as f:\n",
    "        writer = csv.writer(f)\n",
    "        l = soap.find_all('div',attrs={'class':'css-1gatmva e1v1l3u10'})\n",
    "        for row in range(len(l)):\n",
    "            writer.writerow([\n",
    "                l[row].find('a',attrs={'class':'css-o171kl'}).get_text(),\n",
    "                l[row].find('a',attrs={'class':'css-17s97q8'}).get_text(),\n",
    "                l[row].find('span',attrs={'class':'css-5wys0k'}).get_text(),\n",
    "                l[row].find('span',attrs={'class':'css-1ve4b75 eoyjyou0'}).get_text(),\n",
    "                l[row].find('div',attrs={'class':'css-y4udm8'}).find_all('div')[1].get_text()\n",
    "            ])\n",
    "    l2 = soap.find('div',attrs={'class':'css-7o92qm'}).find('li',attrs={'class':'css-8neukt'}).get_text().split('of')\n",
    "    if l2[1].strip() in l2[0].strip():\n",
    "        print('Finished')\n",
    "        break\n",
    "    else:\n",
    "        page_no+=1"
   ]
  },
  {
   "cell_type": "markdown",
   "id": "c0bbe0a5",
   "metadata": {},
   "source": [
    "## Showing Data"
   ]
  },
  {
   "cell_type": "code",
   "execution_count": 4,
   "id": "c1553881",
   "metadata": {},
   "outputs": [
    {
     "data": {
      "text/html": [
       "<div>\n",
       "<style scoped>\n",
       "    .dataframe tbody tr th:only-of-type {\n",
       "        vertical-align: middle;\n",
       "    }\n",
       "\n",
       "    .dataframe tbody tr th {\n",
       "        vertical-align: top;\n",
       "    }\n",
       "\n",
       "    .dataframe thead th {\n",
       "        text-align: right;\n",
       "    }\n",
       "</style>\n",
       "<table border=\"1\" class=\"dataframe\">\n",
       "  <thead>\n",
       "    <tr style=\"text-align: right;\">\n",
       "      <th></th>\n",
       "      <th>Job Title</th>\n",
       "      <th>Company</th>\n",
       "      <th>Location</th>\n",
       "      <th>Time Of Work</th>\n",
       "      <th>Job Description</th>\n",
       "    </tr>\n",
       "  </thead>\n",
       "  <tbody>\n",
       "    <tr>\n",
       "      <th>0</th>\n",
       "      <td>Data Science Intern</td>\n",
       "      <td>Merck Sharp &amp; Dohme Corp -</td>\n",
       "      <td>Dubai, United Arab Emirates</td>\n",
       "      <td>Full Time</td>\n",
       "      <td>Not specified · Administration · IT/Software D...</td>\n",
       "    </tr>\n",
       "    <tr>\n",
       "      <th>1</th>\n",
       "      <td>Product Owner (Data Science &amp; Machine Learning...</td>\n",
       "      <td>Callsign -</td>\n",
       "      <td>Dubai, United Arab Emirates</td>\n",
       "      <td>Full Time</td>\n",
       "      <td>Not specified · IT/Software Development · Proj...</td>\n",
       "    </tr>\n",
       "    <tr>\n",
       "      <th>2</th>\n",
       "      <td>Data Analyst</td>\n",
       "      <td>2CooM -</td>\n",
       "      <td>6th of October, Giza, Egypt</td>\n",
       "      <td>Full Time</td>\n",
       "      <td>Experienced · 1 - 5 Yrs of Exp · IT/Software D...</td>\n",
       "    </tr>\n",
       "    <tr>\n",
       "      <th>3</th>\n",
       "      <td>Oracle Data Platform Supervisor</td>\n",
       "      <td>e-finance -</td>\n",
       "      <td>6th of October, Giza, Egypt</td>\n",
       "      <td>Full Time</td>\n",
       "      <td>Experienced · 5 - 10 Yrs of Exp · IT/Software ...</td>\n",
       "    </tr>\n",
       "    <tr>\n",
       "      <th>4</th>\n",
       "      <td>Senior Data Engineer - Remote</td>\n",
       "      <td>GetTechForce.com -</td>\n",
       "      <td>Cairo, Egypt</td>\n",
       "      <td>Work From Home</td>\n",
       "      <td>Manager · 3+ Yrs of Exp · IT/Software Developm...</td>\n",
       "    </tr>\n",
       "    <tr>\n",
       "      <th>...</th>\n",
       "      <td>...</td>\n",
       "      <td>...</td>\n",
       "      <td>...</td>\n",
       "      <td>...</td>\n",
       "      <td>...</td>\n",
       "    </tr>\n",
       "    <tr>\n",
       "      <th>745</th>\n",
       "      <td>Senior Sales Account Manager</td>\n",
       "      <td>Silicon21 -</td>\n",
       "      <td>Nasr City, Cairo, Egypt</td>\n",
       "      <td>Full Time</td>\n",
       "      <td>Experienced · 3 - 6 Yrs of Exp · Sales/Retail ...</td>\n",
       "    </tr>\n",
       "    <tr>\n",
       "      <th>746</th>\n",
       "      <td>Sales Account Manager</td>\n",
       "      <td>Silicon21 -</td>\n",
       "      <td>Nasr City, Cairo, Egypt</td>\n",
       "      <td>Full Time</td>\n",
       "      <td>Experienced · 1 - 3 Yrs of Exp · Sales/Retail ...</td>\n",
       "    </tr>\n",
       "    <tr>\n",
       "      <th>747</th>\n",
       "      <td>Junior Angular Front-end Developer</td>\n",
       "      <td>StudentGator -</td>\n",
       "      <td>Dokki, Giza, Egypt</td>\n",
       "      <td>Full Time</td>\n",
       "      <td>Entry Level · IT/Software Development · Engine...</td>\n",
       "    </tr>\n",
       "    <tr>\n",
       "      <th>748</th>\n",
       "      <td>Safety Engineer</td>\n",
       "      <td>ICON Holding -</td>\n",
       "      <td>Cairo, Egypt</td>\n",
       "      <td>Full Time</td>\n",
       "      <td>Experienced · 1 - 3 Yrs of Exp · Engineering -...</td>\n",
       "    </tr>\n",
       "    <tr>\n",
       "      <th>749</th>\n",
       "      <td>Senior Odoo Developer.</td>\n",
       "      <td>Confidential -</td>\n",
       "      <td>Cairo, Egypt</td>\n",
       "      <td>Full Time</td>\n",
       "      <td>Experienced · 3 - 7 Yrs of Exp · IT/Software D...</td>\n",
       "    </tr>\n",
       "  </tbody>\n",
       "</table>\n",
       "<p>750 rows × 5 columns</p>\n",
       "</div>"
      ],
      "text/plain": [
       "                                             Job Title  \\\n",
       "0                                  Data Science Intern   \n",
       "1    Product Owner (Data Science & Machine Learning...   \n",
       "2                                         Data Analyst   \n",
       "3                      Oracle Data Platform Supervisor   \n",
       "4                        Senior Data Engineer - Remote   \n",
       "..                                                 ...   \n",
       "745                       Senior Sales Account Manager   \n",
       "746                              Sales Account Manager   \n",
       "747                 Junior Angular Front-end Developer   \n",
       "748                                    Safety Engineer   \n",
       "749                             Senior Odoo Developer.   \n",
       "\n",
       "                        Company                      Location    Time Of Work  \\\n",
       "0    Merck Sharp & Dohme Corp -  Dubai, United Arab Emirates        Full Time   \n",
       "1                    Callsign -  Dubai, United Arab Emirates        Full Time   \n",
       "2                       2CooM -  6th of October, Giza, Egypt        Full Time   \n",
       "3                   e-finance -  6th of October, Giza, Egypt        Full Time   \n",
       "4            GetTechForce.com -                 Cairo, Egypt   Work From Home   \n",
       "..                          ...                           ...             ...   \n",
       "745                 Silicon21 -      Nasr City, Cairo, Egypt        Full Time   \n",
       "746                 Silicon21 -      Nasr City, Cairo, Egypt        Full Time   \n",
       "747              StudentGator -           Dokki, Giza, Egypt        Full Time   \n",
       "748              ICON Holding -                 Cairo, Egypt        Full Time   \n",
       "749              Confidential -                 Cairo, Egypt        Full Time   \n",
       "\n",
       "                                       Job Description  \n",
       "0    Not specified · Administration · IT/Software D...  \n",
       "1    Not specified · IT/Software Development · Proj...  \n",
       "2    Experienced · 1 - 5 Yrs of Exp · IT/Software D...  \n",
       "3    Experienced · 5 - 10 Yrs of Exp · IT/Software ...  \n",
       "4    Manager · 3+ Yrs of Exp · IT/Software Developm...  \n",
       "..                                                 ...  \n",
       "745  Experienced · 3 - 6 Yrs of Exp · Sales/Retail ...  \n",
       "746  Experienced · 1 - 3 Yrs of Exp · Sales/Retail ...  \n",
       "747  Entry Level · IT/Software Development · Engine...  \n",
       "748  Experienced · 1 - 3 Yrs of Exp · Engineering -...  \n",
       "749  Experienced · 3 - 7 Yrs of Exp · IT/Software D...  \n",
       "\n",
       "[750 rows x 5 columns]"
      ]
     },
     "execution_count": 4,
     "metadata": {},
     "output_type": "execute_result"
    }
   ],
   "source": [
    "df = pd.read_csv('jobs.csv')\n",
    "df"
   ]
  },
  {
   "cell_type": "code",
   "execution_count": null,
   "id": "3c951efe",
   "metadata": {},
   "outputs": [],
   "source": []
  }
 ],
 "metadata": {
  "kernelspec": {
   "display_name": "Python 3 (ipykernel)",
   "language": "python",
   "name": "python3"
  },
  "language_info": {
   "codemirror_mode": {
    "name": "ipython",
    "version": 3
   },
   "file_extension": ".py",
   "mimetype": "text/x-python",
   "name": "python",
   "nbconvert_exporter": "python",
   "pygments_lexer": "ipython3",
   "version": "3.11.3"
  }
 },
 "nbformat": 4,
 "nbformat_minor": 5
}
